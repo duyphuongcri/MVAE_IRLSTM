{
 "cells": [
  {
   "cell_type": "code",
   "execution_count": 1,
   "id": "9a706107",
   "metadata": {},
   "outputs": [],
   "source": [
    "import os\n",
    "import numpy as np\n",
    "import pandas as pd\n",
    "from sklearn.model_selection import KFold\n",
    "import random\n"
   ]
  },
  {
   "cell_type": "code",
   "execution_count": 2,
   "id": "71f59235",
   "metadata": {},
   "outputs": [],
   "source": [
    "frame = pd.read_csv(\"../dataset/ADNI/data_cleaned.csv\")\n",
    "frame"
   ]
  },
  {
   "cell_type": "code",
   "execution_count": 3,
   "id": "8ad50db6",
   "metadata": {},
   "outputs": [],
   "source": [
    "list_ptid = list(frame[\"PTID\"].unique())\n",
    "list_ptid"
   ]
  },
  {
   "cell_type": "code",
   "execution_count": 4,
   "id": "e6f6f64d",
   "metadata": {},
   "outputs": [],
   "source": [
    "random.shuffle(list_ptid)\n",
    "list_ptid"
   ]
  },
  {
   "cell_type": "code",
   "execution_count": null,
   "id": "ed39e54d",
   "metadata": {},
   "outputs": [],
   "source": []
  },
  {
   "cell_type": "code",
   "execution_count": 5,
   "id": "91177ac0",
   "metadata": {},
   "outputs": [],
   "source": [
    "arr_ptid = np.array(list_ptid).reshape(-1, 1)\n",
    "arr_ptid.shape"
   ]
  },
  {
   "cell_type": "code",
   "execution_count": 6,
   "id": "0f895d73",
   "metadata": {},
   "outputs": [],
   "source": [
    "array = np.zeros((len(list_ptid), 5))\n",
    "array\n",
    "n_test = array.shape[0]//5\n"
   ]
  },
  {
   "cell_type": "code",
   "execution_count": 7,
   "id": "8f92ac1d",
   "metadata": {},
   "outputs": [],
   "source": [
    "array[0: n_test, 0] = 1.\n",
    "array[n_test: n_test*2, 1] = 1.\n",
    "array[n_test*2: n_test*3, 2] = 1. \n",
    "array[n_test*3: n_test*4, 3] = 1. \n",
    "array[n_test*4: , 4] = 1. "
   ]
  },
  {
   "cell_type": "code",
   "execution_count": 8,
   "id": "72ee8e6e",
   "metadata": {},
   "outputs": [],
   "source": [
    "data1 = pd.DataFrame(array, columns=[\"Fold_0\", \"Fold_1\", \"Fold_2\", \"Fold_3\", \"Fold_4\"])\n",
    "data2 = pd.DataFrame(arr_ptid, columns=[\"PTID\"])"
   ]
  },
  {
   "cell_type": "code",
   "execution_count": 9,
   "id": "901ac396",
   "metadata": {},
   "outputs": [],
   "source": [
    "split_data = pd.concat([data2, data1], axis=1)"
   ]
  },
  {
   "cell_type": "code",
   "execution_count": 10,
   "id": "adcf6c87",
   "metadata": {},
   "outputs": [],
   "source": [
    "split_data.to_csv(\"../dataset/ADNI/data_ptid_split_5_folds.csv\", index=False)"
   ]
  },
  {
   "cell_type": "code",
   "execution_count": null,
   "id": "97b746c1",
   "metadata": {},
   "outputs": [],
   "source": []
  }
 ],
 "metadata": {
  "kernelspec": {
   "display_name": "Python 3 (ipykernel)",
   "language": "python",
   "name": "python3"
  },
  "language_info": {
   "codemirror_mode": {
    "name": "ipython",
    "version": 3
   },
   "file_extension": ".py",
   "mimetype": "text/x-python",
   "name": "python",
   "nbconvert_exporter": "python",
   "pygments_lexer": "ipython3",
   "version": "3.11.3"
  }
 },
 "nbformat": 4,
 "nbformat_minor": 5
}
