{
 "cells": [
  {
   "cell_type": "code",
   "execution_count": 1,
   "id": "235c8bcb",
   "metadata": {},
   "outputs": [],
   "source": [
    "import os\n",
    "import shutil\n",
    "import pandas as pd\n",
    "from datetime import datetime\n",
    "from tqdm import tqdm\n",
    "# shutil.copyfile(src, dst)"
   ]
  },
  {
   "cell_type": "code",
   "execution_count": 2,
   "id": "58561d26",
   "metadata": {},
   "outputs": [],
   "source": [
    "path = \"D:/0.PhD/Dataset/ADNI/ADNI\"\n",
    "path2save = \"D:/0.PhD/Project/ADPrediction/src/dataset/ADNI/renamed\""
   ]
  },
  {
   "cell_type": "code",
   "execution_count": 3,
   "id": "c8c9150c",
   "metadata": {},
   "outputs": [
    {
     "data": {
      "text/plain": [
       "2269"
      ]
     },
     "execution_count": 3,
     "metadata": {},
     "output_type": "execute_result"
    }
   ],
   "source": [
    "list_ptid = os.listdir(path)\n",
    "len(list_ptid)"
   ]
  },
  {
   "cell_type": "code",
   "execution_count": 4,
   "id": "3e580af3",
   "metadata": {},
   "outputs": [
    {
     "data": {
      "text/html": [
       "<div>\n",
       "<style scoped>\n",
       "    .dataframe tbody tr th:only-of-type {\n",
       "        vertical-align: middle;\n",
       "    }\n",
       "\n",
       "    .dataframe tbody tr th {\n",
       "        vertical-align: top;\n",
       "    }\n",
       "\n",
       "    .dataframe thead th {\n",
       "        text-align: right;\n",
       "    }\n",
       "</style>\n",
       "<table border=\"1\" class=\"dataframe\">\n",
       "  <thead>\n",
       "    <tr style=\"text-align: right;\">\n",
       "      <th></th>\n",
       "      <th>VISCODE</th>\n",
       "      <th>EXAMDATE</th>\n",
       "    </tr>\n",
       "    <tr>\n",
       "      <th>PTID</th>\n",
       "      <th></th>\n",
       "      <th></th>\n",
       "    </tr>\n",
       "  </thead>\n",
       "  <tbody>\n",
       "    <tr>\n",
       "      <th>011_S_0002</th>\n",
       "      <td>bl</td>\n",
       "      <td>9/8/2005</td>\n",
       "    </tr>\n",
       "    <tr>\n",
       "      <th>011_S_0003</th>\n",
       "      <td>bl</td>\n",
       "      <td>9/12/2005</td>\n",
       "    </tr>\n",
       "    <tr>\n",
       "      <th>022_S_0004</th>\n",
       "      <td>bl</td>\n",
       "      <td>11/8/2005</td>\n",
       "    </tr>\n",
       "    <tr>\n",
       "      <th>011_S_0005</th>\n",
       "      <td>bl</td>\n",
       "      <td>9/7/2005</td>\n",
       "    </tr>\n",
       "    <tr>\n",
       "      <th>100_S_0006</th>\n",
       "      <td>bl</td>\n",
       "      <td>11/29/2005</td>\n",
       "    </tr>\n",
       "    <tr>\n",
       "      <th>...</th>\n",
       "      <td>...</td>\n",
       "      <td>...</td>\n",
       "    </tr>\n",
       "    <tr>\n",
       "      <th>033_S_7114</th>\n",
       "      <td>bl</td>\n",
       "      <td>11/16/2022</td>\n",
       "    </tr>\n",
       "    <tr>\n",
       "      <th>053_S_7086</th>\n",
       "      <td>bl</td>\n",
       "      <td>11/7/2022</td>\n",
       "    </tr>\n",
       "    <tr>\n",
       "      <th>035_S_7049</th>\n",
       "      <td>bl</td>\n",
       "      <td>9/13/2022</td>\n",
       "    </tr>\n",
       "    <tr>\n",
       "      <th>082_S_7117</th>\n",
       "      <td>bl</td>\n",
       "      <td>1/12/2023</td>\n",
       "    </tr>\n",
       "    <tr>\n",
       "      <th>035_S_7121</th>\n",
       "      <td>bl</td>\n",
       "      <td>3/22/2023</td>\n",
       "    </tr>\n",
       "  </tbody>\n",
       "</table>\n",
       "<p>2430 rows × 2 columns</p>\n",
       "</div>"
      ],
      "text/plain": [
       "           VISCODE    EXAMDATE\n",
       "PTID                          \n",
       "011_S_0002      bl    9/8/2005\n",
       "011_S_0003      bl   9/12/2005\n",
       "022_S_0004      bl   11/8/2005\n",
       "011_S_0005      bl    9/7/2005\n",
       "100_S_0006      bl  11/29/2005\n",
       "...            ...         ...\n",
       "033_S_7114      bl  11/16/2022\n",
       "053_S_7086      bl   11/7/2022\n",
       "035_S_7049      bl   9/13/2022\n",
       "082_S_7117      bl   1/12/2023\n",
       "035_S_7121      bl   3/22/2023\n",
       "\n",
       "[2430 rows x 2 columns]"
      ]
     },
     "execution_count": 4,
     "metadata": {},
     "output_type": "execute_result"
    }
   ],
   "source": [
    "data = pd.read_csv( \"D:/0.PhD/Dataset/ADNI/ADNIMERGE.csv\", usecols=[\"PTID\", \"EXAMDATE\", \"VISCODE\"])\n",
    "list_id_excel = list(data[\"PTID\"].unique())\n",
    "data = data.set_index(\"PTID\")\n",
    "data = data[data[\"VISCODE\"] == \"bl\"]\n",
    "data"
   ]
  },
  {
   "cell_type": "code",
   "execution_count": 5,
   "id": "0c23fbeb",
   "metadata": {},
   "outputs": [],
   "source": [
    "def str2datetime(input):\n",
    "    return datetime.strptime(input[:-2], \"%Y-%m-%d_%H_%M_%S\")\n"
   ]
  },
  {
   "cell_type": "code",
   "execution_count": 9,
   "id": "da38ab4a",
   "metadata": {
    "scrolled": true
   },
   "outputs": [
    {
     "name": "stderr",
     "output_type": "stream",
     "text": [
      "  8%|█████████████▉                                                                                                                                                      | 192/2269 [00:00<00:03, 637.82it/s]"
     ]
    },
    {
     "name": "stdout",
     "output_type": "stream",
     "text": [
      "Wrong baseline:  005_S_6084 6.220972993827161\n"
     ]
    },
    {
     "name": "stderr",
     "output_type": "stream",
     "text": [
      " 45%|██████████████████████████████████████████████████████████████████████████                                                                                          | 1025/2269 [00:17<00:39, 31.63it/s]"
     ]
    },
    {
     "name": "stdout",
     "output_type": "stream",
     "text": [
      "Wrong baseline:  037_S_0588 6.3171435185185185\n"
     ]
    },
    {
     "name": "stderr",
     "output_type": "stream",
     "text": [
      " 47%|████████████████████████████████████████████████████████████████████████████▍                                                                                       | 1058/2269 [00:18<00:27, 44.54it/s]"
     ]
    },
    {
     "name": "stdout",
     "output_type": "stream",
     "text": [
      "Wrong baseline:  037_S_6046 8.184096836419753\n"
     ]
    },
    {
     "name": "stderr",
     "output_type": "stream",
     "text": [
      " 52%|█████████████████████████████████████████████████████████████████████████████████████▏                                                                              | 1178/2269 [00:22<00:43, 25.26it/s]"
     ]
    },
    {
     "name": "stdout",
     "output_type": "stream",
     "text": [
      "Wrong baseline:  053_S_6861 7.987081018518519\n"
     ]
    },
    {
     "name": "stderr",
     "output_type": "stream",
     "text": [
      " 63%|███████████████████████████████████████████████████████████████████████████████████████████████████████▌                                                            | 1433/2269 [00:32<00:18, 46.02it/s]"
     ]
    },
    {
     "name": "stdout",
     "output_type": "stream",
     "text": [
      "Wrong baseline:  082_S_6415 44.455255401234574\n"
     ]
    },
    {
     "name": "stderr",
     "output_type": "stream",
     "text": [
      " 69%|█████████████████████████████████████████████████████████████████████████████████████████████████████████████████▋                                                  | 1573/2269 [00:38<00:21, 32.29it/s]"
     ]
    },
    {
     "name": "stdout",
     "output_type": "stream",
     "text": [
      "Wrong baseline:  100_S_1226 7.71533024691358\n"
     ]
    },
    {
     "name": "stderr",
     "output_type": "stream",
     "text": [
      " 76%|███████████████████████████████████████████████████████████████████████████████████████████████████████████████████████████▉                                        | 1714/2269 [00:42<00:18, 29.82it/s]"
     ]
    },
    {
     "name": "stdout",
     "output_type": "stream",
     "text": [
      "Wrong baseline:  123_S_6118 6.9882179783950615\n"
     ]
    },
    {
     "name": "stderr",
     "output_type": "stream",
     "text": [
      " 97%|██████████████████████████████████████████████████████████████████████████████████████████████████████████████████████████████████████████████████████████████▋    | 2209/2269 [00:59<00:00, 100.00it/s]"
     ]
    },
    {
     "name": "stdout",
     "output_type": "stream",
     "text": [
      "Wrong baseline:  168_S_6281 11.58846296296296\n",
      "Wrong baseline:  168_S_6492 7.022011188271605\n"
     ]
    },
    {
     "name": "stderr",
     "output_type": "stream",
     "text": [
      "100%|████████████████████████████████████████████████████████████████████████████████████████████████████████████████████████████████████████████████████████████████████| 2269/2269 [01:00<00:00, 37.78it/s]\n"
     ]
    },
    {
     "data": {
      "text/plain": [
       "18001"
      ]
     },
     "execution_count": 9,
     "metadata": {},
     "output_type": "execute_result"
    }
   ],
   "source": [
    "n=0\n",
    "for ptid in tqdm(list_ptid):\n",
    "    if ptid not in list_id_excel: # Check whether patient has label or not\n",
    "        continue\n",
    "#     n+=1\n",
    "#     if \"031_S_0294\" not in ptid:\n",
    "#         continue\n",
    "#     print(n, ptid)\n",
    "\n",
    "    path_ptid = os.path.join(path, ptid)\n",
    "    folders = os.listdir(path_ptid)\n",
    "    list_datetime = []\n",
    "    for fd in folders:\n",
    "        if len(list_datetime) == 0:\n",
    "            list_datetime.append(os.listdir(os.path.join(path_ptid, fd))[0])\n",
    "        else:\n",
    "            list_datetime.extend(os.listdir(os.path.join(path_ptid, fd)))\n",
    "    # Convert string to datetime\n",
    "    list_datetime = [str2datetime(ele) for ele in list_datetime]\n",
    "    # Find baseline timepoint\n",
    "    bl_datetime = min(list_datetime)  #2006-04-18 08:20:30\n",
    "    \n",
    "    bl_time2check = datetime.strptime(data.loc[ptid][\"EXAMDATE\"], \"%m/%d/%Y\")\n",
    "    if abs(bl_datetime-bl_time2check).total_seconds()/60/60/24/30/6 > 1:\n",
    "        print(\"Wrong baseline: \", ptid, abs(bl_datetime-bl_time2check).total_seconds()/60/60/24/30)\n",
    "        continue\n",
    "    ####\n",
    "    for fd in folders:\n",
    "        path_modality = os.path.join(path_ptid, fd)\n",
    "        \n",
    "        for fd_time in os.listdir(path_modality):\n",
    "            for r, d, f in os.walk(os.path.join(path_modality, fd_time)):\n",
    "#                 assert len(d) <= 1, path_modality + \" has more than one image\"\n",
    "                for file in f:\n",
    "                    path_source = os.path.join(r, file)\n",
    "                    examtime = str2datetime(fd_time)\n",
    "                    month_appro = (examtime - bl_datetime).total_seconds() / 30 / 24 / 60 / 60\n",
    "#                     path_des = os.path.save\n",
    "                    \n",
    "                    if (\"GradWarp\" in path_source or \"MT1\" in path_source or \"_N3\" in path_source or \"MPR\" in path_source):\n",
    "                        path_des = os.path.join(path2save, ptid, ptid + \"_Month_\" + \"{:.01f}\".format(month_appro).zfill(5) + \\\n",
    "                                              \"_MRI_{}.nii\".format(fd_time[:10]) )\n",
    "                    elif \"FA\" in path_source:\n",
    "                        path_des = os.path.join(path2save, ptid, ptid + \"_Month_\" + \"{:.01f}\".format(month_appro).zfill(5) + \\\n",
    "                                              \"_DTI_FA_{}.nii\".format(fd_time[:10]))\n",
    "                    elif \"MD\" in path_source:\n",
    "                        path_des = os.path.join(path2save, ptid, ptid + \"_Month_\" + \"{:.01f}\".format(month_appro).zfill(5) + \\\n",
    "                                              \"_DTI_MD_{}.nii\".format(fd_time[:10]))\n",
    "                    elif \"AV45_Coreg\" in path_source or \"PIB_Coreg\" in path_source:\n",
    "                        path_des = os.path.join(path2save, ptid, ptid + \"_Month_\" + \"{:.01f}\".format(month_appro).zfill(5) + \\\n",
    "                                              \"_PET_AV45_{}.nii\".format(fd_time[:10]))\n",
    "                    elif  \"\\Coreg\" in path_source:\n",
    "                        path_des = os.path.join(path2save, ptid, ptid + \"_Month_\" + \"{:.01f}\".format(month_appro).zfill(5) + \\\n",
    "                                              \"_PET_FDG_{}.nii\".format(fd_time[:10]))\n",
    "                    \n",
    "                    \n",
    "                    ### Save image\n",
    "                    if  \".nii\" in path_source:\n",
    "                        ## Check existing path\n",
    "                        if not os.path.exists(os.path.join(path2save, ptid)):\n",
    "                            os.mkdir(os.path.join(path2save, ptid))\n",
    "                            \n",
    "                        shutil.copyfile(path_source, path_des)\n",
    "                        print(path_source)\n",
    "                        print(path_des)\n",
    "                        print()\n",
    "                        \n",
    "n"
   ]
  },
  {
   "cell_type": "code",
   "execution_count": 7,
   "id": "725855d0",
   "metadata": {},
   "outputs": [],
   "source": [
    "# Do not have baseline : [100_S_1226, 123_S_6118  ]"
   ]
  },
  {
   "cell_type": "code",
   "execution_count": null,
   "id": "1714f60b",
   "metadata": {},
   "outputs": [],
   "source": []
  },
  {
   "cell_type": "code",
   "execution_count": 11,
   "id": "76f57919",
   "metadata": {},
   "outputs": [
    {
     "data": {
      "text/plain": [
       "17683"
      ]
     },
     "execution_count": 11,
     "metadata": {},
     "output_type": "execute_result"
    }
   ],
   "source": [
    "# n= 0\n",
    "# for r, d, f in os.walk(\"D:/0.PhD/Project/ADPrediction/src/dataset/ADNI/renamed\"):\n",
    "#     for file in f:\n",
    "#         if not file.startswith(\"r\") and not file.startswith(\"y\") and not file.startswith(\"w\") and not file.startswith(\"sw\"):\n",
    "#             n+=1\n",
    "# n"
   ]
  },
  {
   "cell_type": "code",
   "execution_count": null,
   "id": "5b2037e3",
   "metadata": {},
   "outputs": [],
   "source": []
  }
 ],
 "metadata": {
  "kernelspec": {
   "display_name": "Python 3 (ipykernel)",
   "language": "python",
   "name": "python3"
  },
  "language_info": {
   "codemirror_mode": {
    "name": "ipython",
    "version": 3
   },
   "file_extension": ".py",
   "mimetype": "text/x-python",
   "name": "python",
   "nbconvert_exporter": "python",
   "pygments_lexer": "ipython3",
   "version": "3.8.0"
  }
 },
 "nbformat": 4,
 "nbformat_minor": 5
}
